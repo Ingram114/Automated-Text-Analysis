{
 "cells": [
  {
   "cell_type": "code",
   "execution_count": 1,
   "metadata": {},
   "outputs": [],
   "source": [
    "import os\n",
    "import torch\n",
    "import sklearn\n",
    "from torch import nn\n",
    "from torch.utils.data import DataLoader, Dataset\n",
    "from transformers import BertTokenizer, BertModel, AdamW, get_linear_schedule_with_warmup\n",
    "from sklearn.model_selection import train_test_split\n",
    "from sklearn.metrics import accuracy_score, classification_report\n",
    "import pandas as pd"
   ]
  },
  {
   "cell_type": "code",
   "execution_count": 2,
   "metadata": {},
   "outputs": [],
   "source": [
    "def load_imdb_data(data_file,column):\n",
    "    df = pd.read_csv(data_file)\n",
    "    df.fillna(0, inplace=True)\n",
    "    df.replace(-1, 2, inplace=True)\n",
    "    count_0 = labels.count(0)\n",
    "    count_1 = labels.count(1)\n",
    "    count_2 = labels.count(2)\n",
    "    texts = df['reviewText'].tolist()\n",
    "    labels = df[column].tolist()\n",
    "    labels = [int(element) for element in labels]\n",
    "    return texts, labels"
   ]
  },
  {
   "cell_type": "code",
   "execution_count": 2,
   "metadata": {},
   "outputs": [],
   "source": [
    "import pandas as pd\n",
    "import random\n",
    "\n",
    "def load_imdb_data(data_file, column):\n",
    "    # Read the dataframe\n",
    "    df = pd.read_csv(data_file)\n",
    "    \n",
    "    # Fill NaN values with 0 and replace -1 with 2\n",
    "    df.fillna(0, inplace=True)\n",
    "    df.replace(-1, 2, inplace=True)\n",
    "\n",
    "    # Extract text and labels\n",
    "    texts = df['reviewText'].tolist()\n",
    "    labels = df[column].tolist()\n",
    "    labels = [int(element) for element in labels]\n",
    "\n",
    "    # Count the occurrences of each label\n",
    "    count_0 = labels.count(0)\n",
    "    count_1 = labels.count(1)\n",
    "    count_2 = labels.count(2)\n",
    "\n",
    "    # Find the minimum count between count_1 and count_2\n",
    "    min_count = count_1 + count_2\n",
    "\n",
    "    # Randomly sample min_count instances with label 0\n",
    "    indices_label_0 = [i for i, label in enumerate(labels) if label == 0]\n",
    "    sampled_indices_label_0 = random.sample(indices_label_0, min_count)\n",
    "\n",
    "    # Find indices of instances with label 1 and 2\n",
    "    indices_label_1 = [i for i, label in enumerate(labels) if label == 1]\n",
    "    indices_label_2 = [i for i, label in enumerate(labels) if label == 2]\n",
    "\n",
    "    # Include all instances with labels 1 and 2\n",
    "    sampled_indices_label_1 = indices_label_1\n",
    "    sampled_indices_label_2 = indices_label_2\n",
    "\n",
    "    # Create a new balanced list of labels and text\n",
    "    balanced_labels = [label for i, label in enumerate(labels) if i in sampled_indices_label_0 + sampled_indices_label_1 + sampled_indices_label_2]\n",
    "    balanced_texts = [text for i, text in enumerate(texts) if i in sampled_indices_label_0 + sampled_indices_label_1 + sampled_indices_label_2]\n",
    "\n",
    "    return balanced_texts, balanced_labels\n",
    "\n"
   ]
  },
  {
   "cell_type": "code",
   "execution_count": 3,
   "metadata": {},
   "outputs": [],
   "source": [
    "data_file = \"D:\\ISE540\\Team project\\Amazonfoodnew - Amazonfoodnew.csv\"\n",
    "texts, labels = load_imdb_data(data_file,'packing/outter appearance/shipping')"
   ]
  },
  {
   "cell_type": "code",
   "execution_count": 5,
   "metadata": {},
   "outputs": [
    {
     "data": {
      "image/png": "[encoded data removed]",
      "text/plain": [
       "<Figure size 640x480 with 1 Axes>"
      ]
     },
     "metadata": {},
     "output_type": "display_data"
    }
   ],
   "source": [
    "import matplotlib.pyplot as plt\n",
    "# Count occurrences of each label\n",
    "label_counts = {0: labels.count(0), 1: labels.count(1), -1: labels.count(2)}\n",
    "\n",
    "# Plotting the bar chart\n",
    "plt.bar(label_counts.keys(), label_counts.values(), color=['green', 'blue', 'red'])\n",
    "plt.title('Label Counts')\n",
    "plt.xlabel('Label')\n",
    "plt.ylabel('Count')\n",
    "plt.show()"
   ]
  },
  {
   "cell_type": "code",
   "execution_count": 6,
   "metadata": {},
   "outputs": [],
   "source": [
    "class TextClassificationDataset(Dataset):\n",
    "    def __init__(self, texts, labels, tokenizer, max_length):\n",
    "        self.texts = texts\n",
    "        self.labels = labels\n",
    "        self.tokenizer = tokenizer\n",
    "        self.max_length = max_length\n",
    "    def __len__(self):\n",
    "        return len(self.texts)\n",
    "    def __getitem__(self, idx):\n",
    "        text = self.texts[idx]\n",
    "        label = self.labels[idx]\n",
    "        encoding = self.tokenizer(text, return_tensors='pt', max_length=self.max_length, padding='max_length', truncation=True)\n",
    "        return {'input_ids': encoding['input_ids'].flatten(), 'attention_mask': encoding['attention_mask'].flatten(), 'label': torch.tensor(label)}"
   ]
  },
  {
   "cell_type": "code",
   "execution_count": 7,
   "metadata": {},
   "outputs": [],
   "source": [
    "class BERTClassifier(nn.Module):\n",
    "    def __init__(self, bert_model_name, num_classes):\n",
    "        super(BERTClassifier, self).__init__()\n",
    "        self.bert = BertModel.from_pretrained(bert_model_name)\n",
    "        self.dropout = nn.Dropout(0.1)\n",
    "        self.fc = nn.Linear(self.bert.config.hidden_size, num_classes)\n",
    "\n",
    "    def forward(self, input_ids, attention_mask):\n",
    "        outputs = self.bert(input_ids=input_ids, attention_mask=attention_mask)\n",
    "        pooled_output = outputs.pooler_output\n",
    "        x = self.dropout(pooled_output)\n",
    "        logits = self.fc(x)\n",
    "        return logits"
   ]
  },
  {
   "cell_type": "code",
   "execution_count": 8,
   "metadata": {},
   "outputs": [],
   "source": [
    "def train(model, data_loader, optimizer, scheduler, device):\n",
    "    model.train()\n",
    "    for batch in data_loader:\n",
    "        optimizer.zero_grad()\n",
    "        input_ids = batch['input_ids'].to(device)\n",
    "        attention_mask = batch['attention_mask'].to(device)\n",
    "        labels = batch['label'].to(device)\n",
    "        outputs = model(input_ids=input_ids, attention_mask=attention_mask)\n",
    "        loss = nn.CrossEntropyLoss()(outputs, labels)\n",
    "        loss.backward()\n",
    "        optimizer.step()\n",
    "        scheduler.step()"
   ]
  },
  {
   "cell_type": "code",
   "execution_count": 9,
   "metadata": {},
   "outputs": [],
   "source": [
    "def evaluate(model, data_loader, device):\n",
    "    model.eval()\n",
    "    predictions = []\n",
    "    actual_labels = []\n",
    "    with torch.no_grad():\n",
    "        for batch in data_loader:\n",
    "            input_ids = batch['input_ids'].to(device)\n",
    "            attention_mask = batch['attention_mask'].to(device)\n",
    "            labels = batch['label'].to(device)\n",
    "            # labels = batch['label'].to(device).long()\n",
    "            outputs = model(input_ids=input_ids, attention_mask=attention_mask)\n",
    "            _, preds = torch.max(outputs, dim=1)\n",
    "            predictions.extend(preds.cpu().tolist())\n",
    "            actual_labels.extend(labels.cpu().tolist())\n",
    "    return accuracy_score(actual_labels, predictions), classification_report(actual_labels, predictions)"
   ]
  },
  {
   "cell_type": "code",
   "execution_count": 32,
   "metadata": {},
   "outputs": [],
   "source": [
    "def predict_sentiment(text, model, tokenizer, device, max_length=128):\n",
    "    model.eval()\n",
    "    encoding = tokenizer(text, return_tensors='pt', max_length=max_length, padding='max_length', truncation=True)\n",
    "    input_ids = encoding['input_ids'].to(device)\n",
    "    attention_mask = encoding['attention_mask'].to(device)\n",
    "\n",
    "    with torch.no_grad():\n",
    "        outputs = model(input_ids=input_ids, attention_mask=attention_mask)\n",
    "        _, preds = torch.max(outputs, dim=1)\n",
    "    # return preds\n",
    "    if preds.item() == 1:\n",
    "        return \"positive\"\n",
    "    elif preds.item() == 0: \n",
    "        return \"not relevant\"\n",
    "    else:\n",
    "        return \"negative\"\n",
    "    return \"positive\" if preds.item() == 1 else \"negative\""
   ]
  },
  {
   "cell_type": "code",
   "execution_count": 11,
   "metadata": {},
   "outputs": [],
   "source": [
    "# Set up parameters\n",
    "bert_model_name = 'bert-base-uncased'\n",
    "num_classes = 3\n",
    "max_length = 128\n",
    "batch_size = 16\n",
    "num_epochs = 4\n",
    "learning_rate = 2e-5"
   ]
  },
  {
   "cell_type": "code",
   "execution_count": 12,
   "metadata": {},
   "outputs": [],
   "source": [
    "train_texts, val_texts, train_labels, val_labels = train_test_split(texts, labels, test_size=0.2, random_state=42)"
   ]
  },
  {
   "cell_type": "code",
   "execution_count": 13,
   "metadata": {},
   "outputs": [],
   "source": [
    "tokenizer = BertTokenizer.from_pretrained(bert_model_name)\n",
    "train_dataset = TextClassificationDataset(train_texts, train_labels, tokenizer, max_length)\n",
    "val_dataset = TextClassificationDataset(val_texts, val_labels, tokenizer, max_length)\n",
    "train_dataloader = DataLoader(train_dataset, batch_size=batch_size, shuffle=True)\n",
    "val_dataloader = DataLoader(val_dataset, batch_size=batch_size)"
   ]
  },
  {
   "cell_type": "code",
   "execution_count": 14,
   "metadata": {},
   "outputs": [],
   "source": [
    "device = torch.device(\"cuda\" if torch.cuda.is_available() else \"cpu\")\n",
    "model = BERTClassifier(bert_model_name, num_classes).to(device)"
   ]
  },
  {
   "cell_type": "code",
   "execution_count": 15,
   "metadata": {},
   "outputs": [
    {
     "name": "stderr",
     "output_type": "stream",
     "text": [
      "d:\\Anaconda3\\lib\\site-packages\\transformers\\optimization.py:411: FutureWarning: This implementation of AdamW is deprecated and will be removed in a future version. Use the PyTorch implementation torch.optim.AdamW instead, or set `no_deprecation_warning=True` to disable this warning\n",
      "  warnings.warn(\n"
     ]
    }
   ],
   "source": [
    "optimizer = AdamW(model.parameters(), lr=learning_rate)\n",
    "total_steps = len(train_dataloader) * num_epochs\n",
    "scheduler = get_linear_schedule_with_warmup(optimizer, num_warmup_steps=0, num_training_steps=total_steps)"
   ]
  },
  {
   "cell_type": "code",
   "execution_count": 16,
   "metadata": {},
   "outputs": [
    {
     "name": "stdout",
     "output_type": "stream",
     "text": [
      "Epoch 1/4\n",
      "Validation Accuracy: 0.5934\n",
      "              precision    recall  f1-score   support\n",
      "\n",
      "           0       0.58      0.91      0.71        43\n",
      "           1       0.56      0.31      0.40        32\n",
      "           2       0.83      0.31      0.45        16\n",
      "\n",
      "    accuracy                           0.59        91\n",
      "   macro avg       0.66      0.51      0.52        91\n",
      "weighted avg       0.62      0.59      0.56        91\n",
      "\n",
      "Epoch 2/4\n",
      "Validation Accuracy: 0.5604\n",
      "              precision    recall  f1-score   support\n",
      "\n",
      "           0       0.58      0.98      0.72        43\n",
      "           1       0.42      0.16      0.23        32\n",
      "           2       0.67      0.25      0.36        16\n",
      "\n",
      "    accuracy                           0.56        91\n",
      "   macro avg       0.55      0.46      0.44        91\n",
      "weighted avg       0.54      0.56      0.49        91\n",
      "\n",
      "Epoch 3/4\n",
      "Validation Accuracy: 0.6044\n",
      "              precision    recall  f1-score   support\n",
      "\n",
      "           0       0.62      0.91      0.74        43\n",
      "           1       0.50      0.25      0.33        32\n",
      "           2       0.67      0.50      0.57        16\n",
      "\n",
      "    accuracy                           0.60        91\n",
      "   macro avg       0.60      0.55      0.55        91\n",
      "weighted avg       0.59      0.60      0.57        91\n",
      "\n",
      "Epoch 4/4\n",
      "Validation Accuracy: 0.6044\n",
      "              precision    recall  f1-score   support\n",
      "\n",
      "           0       0.62      0.91      0.74        43\n",
      "           1       0.50      0.25      0.33        32\n",
      "           2       0.67      0.50      0.57        16\n",
      "\n",
      "    accuracy                           0.60        91\n",
      "   macro avg       0.60      0.55      0.55        91\n",
      "weighted avg       0.59      0.60      0.57        91\n",
      "\n"
     ]
    }
   ],
   "source": [
    "for epoch in range(num_epochs):\n",
    "    print(f\"Epoch {epoch + 1}/{num_epochs}\")\n",
    "    train(model, train_dataloader, optimizer, scheduler, device)\n",
    "    accuracy, report = evaluate(model, val_dataloader, device)\n",
    "    print(f\"Validation Accuracy: {accuracy:.4f}\")\n",
    "    print(report)"
   ]
  },
  {
   "cell_type": "code",
   "execution_count": 33,
   "metadata": {},
   "outputs": [
    {
     "name": "stdout",
     "output_type": "stream",
     "text": [
      "The packing is really good.\n",
      "Predicted sentiment: not relevant\n"
     ]
    }
   ],
   "source": [
    "test_text = \"nice shipping.\"\n",
    "sentiment = predict_sentiment(test_text, model, tokenizer, device)\n",
    "# print(\"The packing is really good.\")\n",
    "print(f\"Predicted sentiment: {sentiment}\")"
   ]
  }
 ],
 "metadata": {
  "kernelspec": {
   "display_name": "Python 3.8.5 ('base')",
   "language": "python",
   "name": "python3"
  },
  "language_info": {
   "codemirror_mode": {
    "name": "ipython",
    "version": 3
   },
   "file_extension": ".py",
   "mimetype": "text/x-python",
   "name": "python",
   "nbconvert_exporter": "python",
   "pygments_lexer": "ipython3",
   "version": "3.8.5"
  },
  "orig_nbformat": 4,
  "vscode": {
   "interpreter": {
    "hash": "b09ec625f77bf4fd762565a912b97636504ad6ec901eb2d0f4cf5a7de23e1ee5"
   }
  }
 },
 "nbformat": 4,
 "nbformat_minor": 2
}
