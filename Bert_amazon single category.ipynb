{
 "cells": [
  {
   "cell_type": "code",
   "execution_count": 1,
   "metadata": {},
   "outputs": [],
   "source": [
    "import pandas as pd\n",
    "import matplotlib.pyplot as plt\n",
    "import seaborn as sns"
   ]
  },
  {
   "cell_type": "code",
   "execution_count": 2,
   "metadata": {},
   "outputs": [],
   "source": [
    "import os\n",
    "import torch\n",
    "from torch import nn\n",
    "from torch.utils.data import DataLoader, Dataset\n",
    "from transformers import BertTokenizer, BertModel, AdamW, get_linear_schedule_with_warmup\n",
    "from sklearn.model_selection import train_test_split\n",
    "from sklearn.metrics import accuracy_score, classification_report\n",
    "import pandas as pd"
   ]
  },
  {
   "cell_type": "code",
   "execution_count": 3,
   "metadata": {},
   "outputs": [],
   "source": [
    "df = pd.read_csv('D:\\ISE540\\Team project\\Amazonfoodnew - Amazonfoodnew.csv')\n",
    "df.fillna(0, inplace=True)\n",
    "df.replace(-1, 1, inplace=True)"
   ]
  },
  {
   "cell_type": "code",
   "execution_count": 4,
   "metadata": {},
   "outputs": [],
   "source": [
    "# CLASSES = ['packing/outter appearance/shipping','health/ingredient','pricing/volume/quality','Cooking/how to use','Taste/texture']\n",
    "texts = df['reviewText'].tolist()\n",
    "labels = [[row['packing/outter appearance/shipping'], row['health/ingredient'], row['pricing/volume/quality'], row['Cooking/how to use'], row['Taste/texture']] for _, row in df.iterrows()]"
   ]
  },
  {
   "cell_type": "code",
   "execution_count": 6,
   "metadata": {},
   "outputs": [],
   "source": [
    "class TextClassificationDataset(Dataset):\n",
    "    def __init__(self, texts, labels, tokenizer, max_length):\n",
    "        self.texts = texts\n",
    "        self.labels = labels\n",
    "        self.tokenizer = tokenizer\n",
    "        self.max_length = max_length\n",
    "    def __len__(self):\n",
    "        return len(self.texts)\n",
    "    def __getitem__(self, idx):\n",
    "        text = self.texts[idx]\n",
    "        label = self.labels[idx]\n",
    "        encoding = self.tokenizer(text, return_tensors='pt', max_length=self.max_length, padding='max_length', truncation=True)\n",
    "        return {'input_ids': encoding['input_ids'].flatten(), 'attention_mask': encoding['attention_mask'].flatten(), 'label': torch.tensor(label)}"
   ]
  },
  {
   "cell_type": "code",
   "execution_count": 26,
   "metadata": {},
   "outputs": [],
   "source": [
    "class BERTClassifier(nn.Module):\n",
    "    def __init__(self, bert_model_name, num_classes):\n",
    "        super(BERTClassifier, self).__init__()\n",
    "        self.bert = BertModel.from_pretrained(bert_model_name)\n",
    "        self.dropout = nn.Dropout(0.1)\n",
    "        self.fc = nn.Linear(self.bert.config.hidden_size, num_classes)\n",
    "        #修改\n",
    "        # self.sigmoid = nn.Sigmoid()\n",
    "\n",
    "\n",
    "    def forward(self, input_ids, attention_mask):\n",
    "        outputs = self.bert(input_ids=input_ids, attention_mask=attention_mask)\n",
    "        pooled_output = outputs.pooler_output\n",
    "        x = self.dropout(pooled_output)\n",
    "        logits = self.fc(x)\n",
    "        return logits\n",
    "        # return self.sigmoid(logits)"
   ]
  },
  {
   "cell_type": "code",
   "execution_count": 27,
   "metadata": {},
   "outputs": [],
   "source": [
    "def train(model, data_loader, optimizer, scheduler, device):\n",
    "    model.train()\n",
    "    for batch in data_loader:\n",
    "        optimizer.zero_grad()\n",
    "        input_ids = batch['input_ids'].to(device)\n",
    "        attention_mask = batch['attention_mask'].to(device)\n",
    "        labels = batch['label'].to(device)\n",
    "        outputs = model(input_ids=input_ids, attention_mask=attention_mask)\n",
    "        loss = nn.CrossEntropyLoss()(outputs, labels)\n",
    "        # loss = nn.BCEWithLogitsLoss()(outputs, labels)\n",
    "        loss.backward()\n",
    "        optimizer.step()\n",
    "        scheduler.step()"
   ]
  },
  {
   "cell_type": "code",
   "execution_count": 28,
   "metadata": {},
   "outputs": [],
   "source": [
    "from sklearn.metrics import precision_recall_fscore_support\n",
    "\n",
    "def evaluate_multiclass(model, data_loader, device, num_classes):\n",
    "    model.eval()\n",
    "    all_predictions = []\n",
    "    all_actual_labels = []\n",
    "    with torch.no_grad():\n",
    "        for batch in data_loader:\n",
    "            input_ids = batch['input_ids'].to(device)\n",
    "            attention_mask = batch['attention_mask'].to(device)\n",
    "            labels = batch['label'].to(device)\n",
    "            outputs = model(input_ids=input_ids, attention_mask=attention_mask)\n",
    "            _, preds = torch.max(outputs, dim=1)\n",
    "            all_predictions.extend(preds.cpu().tolist())\n",
    "            all_actual_labels.extend(labels.cpu().tolist())\n",
    "\n",
    "    # 使用 torch.argmax 将多标签指示器转换为单一标签\n",
    "    all_actual_labels = torch.argmax(torch.tensor(all_actual_labels), dim=1).cpu().tolist()\n",
    "\n",
    "    # 计算每个类别的准确率、召回率、F1 分数\n",
    "    precision, recall, f1, _ = precision_recall_fscore_support(all_actual_labels, all_predictions, labels=list(range(num_classes)), average=None)\n",
    "\n",
    "    for i in range(num_classes):\n",
    "        print(f\"Class {i} - Precision: {precision[i]}, Recall: {recall[i]}, F1: {f1[i]}\")\n",
    "\n",
    "    # 计算总体的平均准确率、召回率、F1 分数\n",
    "    overall_precision, overall_recall, overall_f1, _ = precision_recall_fscore_support(all_actual_labels, all_predictions, average='macro')\n",
    "\n",
    "    print(f\"\\nOverall Metrics - Precision: {overall_precision}, Recall: {overall_recall}, F1: {overall_f1}\")"
   ]
  },
  {
   "cell_type": "code",
   "execution_count": 29,
   "metadata": {},
   "outputs": [],
   "source": [
    "# Set up parameters\n",
    "bert_model_name = 'bert-base-uncased'\n",
    "num_classes = 5\n",
    "max_length = 128\n",
    "batch_size = 8\n",
    "num_epochs = 4\n",
    "learning_rate = 2e-5"
   ]
  },
  {
   "cell_type": "code",
   "execution_count": 13,
   "metadata": {},
   "outputs": [],
   "source": [
    "train_texts, val_texts, train_labels, val_labels = train_test_split(texts, labels, test_size=0.2, random_state=42)"
   ]
  },
  {
   "cell_type": "code",
   "execution_count": 30,
   "metadata": {},
   "outputs": [],
   "source": [
    "tokenizer = BertTokenizer.from_pretrained(bert_model_name)\n",
    "train_dataset = TextClassificationDataset(train_texts, train_labels, tokenizer, max_length)\n",
    "val_dataset = TextClassificationDataset(val_texts, val_labels, tokenizer, max_length)\n",
    "train_dataloader = DataLoader(train_dataset, batch_size=batch_size, shuffle=True)\n",
    "val_dataloader = DataLoader(val_dataset, batch_size=batch_size)"
   ]
  },
  {
   "cell_type": "code",
   "execution_count": 31,
   "metadata": {},
   "outputs": [],
   "source": [
    "device = torch.device(\"cuda\" if torch.cuda.is_available() else \"cpu\")\n",
    "model = BERTClassifier(bert_model_name, num_classes).to(device)"
   ]
  },
  {
   "cell_type": "code",
   "execution_count": 32,
   "metadata": {},
   "outputs": [
    {
     "name": "stderr",
     "output_type": "stream",
     "text": [
      "d:\\Anaconda3\\lib\\site-packages\\transformers\\optimization.py:411: FutureWarning: This implementation of AdamW is deprecated and will be removed in a future version. Use the PyTorch implementation torch.optim.AdamW instead, or set `no_deprecation_warning=True` to disable this warning\n",
      "  warnings.warn(\n"
     ]
    }
   ],
   "source": [
    "optimizer = AdamW(model.parameters(), lr=learning_rate)\n",
    "total_steps = len(train_dataloader) * num_epochs\n",
    "scheduler = get_linear_schedule_with_warmup(optimizer, num_warmup_steps=0, num_training_steps=total_steps)"
   ]
  },
  {
   "cell_type": "code",
   "execution_count": 33,
   "metadata": {},
   "outputs": [
    {
     "name": "stdout",
     "output_type": "stream",
     "text": [
      "Epoch 1/4\n"
     ]
    },
    {
     "name": "stderr",
     "output_type": "stream",
     "text": [
      "d:\\Anaconda3\\lib\\site-packages\\sklearn\\metrics\\_classification.py:1469: UndefinedMetricWarning: Precision and F-score are ill-defined and being set to 0.0 in labels with no predicted samples. Use `zero_division` parameter to control this behavior.\n",
      "  _warn_prf(average, modifier, msg_start, len(result))\n",
      "d:\\Anaconda3\\lib\\site-packages\\sklearn\\metrics\\_classification.py:1469: UndefinedMetricWarning: Precision and F-score are ill-defined and being set to 0.0 in labels with no predicted samples. Use `zero_division` parameter to control this behavior.\n",
      "  _warn_prf(average, modifier, msg_start, len(result))\n"
     ]
    },
    {
     "name": "stdout",
     "output_type": "stream",
     "text": [
      "Class 0 - Precision: 0.9333333333333333, Recall: 0.08235294117647059, F1: 0.15135135135135136\n",
      "Class 1 - Precision: 0.0, Recall: 0.0, F1: 0.0\n",
      "Class 2 - Precision: 0.32967032967032966, Recall: 0.6666666666666666, F1: 0.4411764705882353\n",
      "Class 3 - Precision: 0.0, Recall: 0.0, F1: 0.0\n",
      "Class 4 - Precision: 0.3469387755102041, Recall: 0.9532710280373832, F1: 0.5087281795511222\n",
      "\n",
      "Overall Metrics - Precision: 0.3219884877027734, Recall: 0.3404581271761041, F1: 0.22025120029814174\n",
      "None\n",
      "Epoch 2/4\n",
      "Class 0 - Precision: 0.8636363636363636, Recall: 0.11176470588235295, F1: 0.19791666666666666\n",
      "Class 1 - Precision: 0.47368421052631576, Recall: 0.23684210526315788, F1: 0.3157894736842105\n",
      "Class 2 - Precision: 0.2831858407079646, Recall: 0.7111111111111111, F1: 0.4050632911392405\n",
      "Class 3 - Precision: 0.2857142857142857, Recall: 0.05, F1: 0.0851063829787234\n",
      "Class 4 - Precision: 0.4100418410041841, Recall: 0.9158878504672897, F1: 0.5664739884393064\n",
      "\n",
      "Overall Metrics - Precision: 0.46325250831782283, Recall: 0.4051211545447823, F1: 0.31406996058162945\n",
      "None\n",
      "Epoch 3/4\n",
      "Class 0 - Precision: 0.8857142857142857, Recall: 0.18235294117647058, F1: 0.30243902439024384\n",
      "Class 1 - Precision: 0.5625, Recall: 0.23684210526315788, F1: 0.3333333333333333\n",
      "Class 2 - Precision: 0.4, Recall: 0.6222222222222222, F1: 0.4869565217391305\n",
      "Class 3 - Precision: 0.2647058823529412, Recall: 0.225, F1: 0.24324324324324323\n",
      "Class 4 - Precision: 0.4, Recall: 0.9158878504672897, F1: 0.5568181818181819\n",
      "\n",
      "Overall Metrics - Precision: 0.5025840336134453, Recall: 0.4364610238258281, F1: 0.3845580609048266\n",
      "None\n",
      "Epoch 4/4\n",
      "Class 0 - Precision: 0.9354838709677419, Recall: 0.17058823529411765, F1: 0.2885572139303483\n",
      "Class 1 - Precision: 0.6, Recall: 0.23684210526315788, F1: 0.339622641509434\n",
      "Class 2 - Precision: 0.4482758620689655, Recall: 0.5777777777777777, F1: 0.5048543689320388\n",
      "Class 3 - Precision: 0.2962962962962963, Recall: 0.4, F1: 0.3404255319148936\n",
      "Class 4 - Precision: 0.4049586776859504, Recall: 0.9158878504672897, F1: 0.5616045845272205\n",
      "\n",
      "Overall Metrics - Precision: 0.5370029414037909, Recall: 0.4602191937604686, F1: 0.40701286816278703\n",
      "None\n"
     ]
    }
   ],
   "source": [
    "for epoch in range(num_epochs):\n",
    "    print(f\"Epoch {epoch + 1}/{num_epochs}\")\n",
    "    model.train()\n",
    "    for batch in train_dataloader:\n",
    "        optimizer.zero_grad()\n",
    "        input_ids = batch['input_ids'].to(device)\n",
    "        attention_mask = batch['attention_mask'].to(device)\n",
    "        labels = batch['label'].to(device)\n",
    "        outputs = model(input_ids=input_ids, attention_mask=attention_mask)\n",
    "        loss = nn.BCEWithLogitsLoss()(outputs, labels.float())  # 使用 BCEWithLogitsLoss\n",
    "        loss.backward()\n",
    "        optimizer.step()\n",
    "        scheduler.step()\n",
    "\n",
    "    # 在每个 epoch 结束后进行评估\n",
    "    model.eval()\n",
    "    confusion_matrix = evaluate_multiclass(model, val_dataloader, device, num_classes)\n",
    "    print(confusion_matrix)\n"
   ]
  },
  {
   "cell_type": "code",
   "execution_count": 38,
   "metadata": {},
   "outputs": [
    {
     "name": "stdout",
     "output_type": "stream",
     "text": [
      "The predicted labels for the sentence are: ['pricing/volume/quality']\n"
     ]
    }
   ],
   "source": [
    "import torch\n",
    "from transformers import BertTokenizer\n",
    "\n",
    "def predict_multilabel(text, model, tokenizer, device, threshold=0.6, max_length=128):\n",
    "    model.eval()\n",
    "    with torch.no_grad():\n",
    "\n",
    "        encoding = tokenizer(text, return_tensors='pt', max_length=max_length, padding='max_length', truncation=True)\n",
    "        input_ids = encoding['input_ids'].to(device)\n",
    "        attention_mask = encoding['attention_mask'].to(device)\n",
    "\n",
    "        # 使用模型进行预测\n",
    "        outputs = model(input_ids=input_ids, attention_mask=attention_mask)\n",
    "        \n",
    "        # 使用 sigmoid 函数将输出转换为概率\n",
    "        probabilities = torch.sigmoid(outputs)\n",
    "        \n",
    "        # 判断概率是否超过阈值\n",
    "        predicted_labels = (probabilities > threshold).int().tolist()[0]\n",
    "        result = [list_classes[i] for i in range(len(list_classes)) if predicted_labels[i] == 1]\n",
    "\n",
    "    return result\n",
    "\n",
    "# test_sentence = \"nice package, but bad price\"\n",
    "test_sentence = \"It is really healthy, but bad price\"\n",
    "\n",
    "list_classes = ['packing/outter appearance/shipping','health/ingredient','pricing/volume/quality','Cooking/how to use','Taste/texture']\n",
    "# predicted_labels = list_classes[predict_multilabel(test_sentence, model, tokenizer, device)]\n",
    "predicted_labels = predict_multilabel(test_sentence, model, tokenizer, device)\n",
    "\n",
    "print(f\"The predicted labels for the sentence are: {predicted_labels}\")\n"
   ]
  },
  {
   "cell_type": "code",
   "execution_count": 40,
   "metadata": {},
   "outputs": [
    {
     "name": "stdout",
     "output_type": "stream",
     "text": [
      "The predicted class for the sentence is: health/ingredient\n"
     ]
    }
   ],
   "source": [
    "def predict_sentiment(text, model, tokenizer, device, max_length=128):\n",
    "    model.eval()\n",
    "    encoding = tokenizer(text, return_tensors='pt', max_length=max_length, padding='max_length', truncation=True)\n",
    "    input_ids = encoding['input_ids'].to(device)\n",
    "    attention_mask = encoding['attention_mask'].to(device)\n",
    "\n",
    "    with torch.no_grad():\n",
    "        outputs = model(input_ids=input_ids, attention_mask=attention_mask)\n",
    "        _, preds = torch.max(outputs, dim=1)\n",
    "\n",
    "    return preds.item()\n",
    "\n",
    "\n",
    "test_sentence = \"It is really healthy\"\n",
    "# test_sentence = \"It is good in my breakfast\"\n",
    "\n",
    "list_classes = ['packing/outter appearance/shipping','health/ingredient','pricing/volume/quality','Cooking/how to use','Taste/texture']\n",
    "predicted_class = list_classes[predict_sentiment(test_sentence, model, tokenizer, device)]\n",
    "print(f\"The predicted class for the sentence is: {predicted_class}\")"
   ]
  }
 ],
 "metadata": {
  "kernelspec": {
   "display_name": "Python 3.8.5 ('base')",
   "language": "python",
   "name": "python3"
  },
  "language_info": {
   "codemirror_mode": {
    "name": "ipython",
    "version": 3
   },
   "file_extension": ".py",
   "mimetype": "text/x-python",
   "name": "python",
   "nbconvert_exporter": "python",
   "pygments_lexer": "ipython3",
   "version": "3.8.5"
  },
  "orig_nbformat": 4,
  "vscode": {
   "interpreter": {
    "hash": "b09ec625f77bf4fd762565a912b97636504ad6ec901eb2d0f4cf5a7de23e1ee5"
   }
  }
 },
 "nbformat": 4,
 "nbformat_minor": 2
}
